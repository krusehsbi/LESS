{
  "nbformat": 4,
  "nbformat_minor": 0,
  "metadata": {
    "colab": {
      "provenance": [],
      "toc_visible": true,
      "authorship_tag": "ABX9TyM9FQmym6NV5GMyJ8YA+QOM",
      "include_colab_link": true
    },
    "kernelspec": {
      "name": "python3",
      "display_name": "Python 3"
    },
    "language_info": {
      "name": "python"
    }
  },
  "cells": [
    {
      "cell_type": "markdown",
      "metadata": {
        "id": "view-in-github",
        "colab_type": "text"
      },
      "source": [
        "<a href=\"https://colab.research.google.com/github/krusehsbi/LESS/blob/main/less.ipynb\" target=\"_parent\"><img src=\"https://colab.research.google.com/assets/colab-badge.svg\" alt=\"Open In Colab\"/></a>"
      ]
    },
    {
      "cell_type": "markdown",
      "source": [
        "# LESS: Litter Examination Using Sparse Samples"
      ],
      "metadata": {
        "id": "McYTDDPSG3kD"
      }
    },
    {
      "cell_type": "markdown",
      "source": [
        "# Data"
      ],
      "metadata": {
        "id": "3V8l9IOuHhiH"
      }
    },
    {
      "cell_type": "markdown",
      "source": [
        "TACO-Dataset: [tacodataset.org](http://tacodataset.org)"
      ],
      "metadata": {
        "id": "Mepn9ZwOHsj_"
      }
    }
  ]
}